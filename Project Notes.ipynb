{
 "cells": [
  {
   "cell_type": "markdown",
   "metadata": {},
   "source": [
    "# Group 1 Project\n",
    "\n",
    "## The Data We Have\n",
    "1. [County Health Rankings and Roadmaps](https://www.countyhealthrankings.org)\n",
    "2. [Census API](https://www.countyhealthrankings.org/health-data/methodology-and-sources/data-documentation/national-data-documentation-2010-2022)\n",
    "\n",
    "### County Health Rankings and Roadmaps\n",
    "#### Things to Do\n",
    "- Check out the documentation, we want to make sure we are properly representing things\n",
    "- Clean the data \n",
    "    - Check the xlsx import\n",
    "    - look at the data avalible\n",
    "    - check for mistakes/unreliable values\n",
    "    - determine what to do about missing values\n",
    "    - create a bespoke cleaned dataset\n",
    "\n",
    "### Census API\n",
    "    - Check out the documentation\n",
    "    - Make some kind of list of relevent data points\n",
    "\n",
    "\n",
    "### Geography Stuff\n",
    "    - We need to find out how to send county data to a map as well as for states. \n",
    "    - \n",
    "\n",
    "\n",
    "## Summary Statistics, Broad Overview, \n",
    "### Cool Questions to Think About\n",
    "- How is our data distributed\n",
    "- Do we have any outliers?\n",
    "\n",
    "\n",
    "## Working on Questions\n",
    "\n",
    "\n",
    "\n",
    "## Big Picture\n",
    "We need to fill 10 minutes of time talking about things so, \n",
    "- A final good/cool presentation jupyter notebook\n",
    "- A nice slide deck or something to give us nice backgrounds while we talk\n",
    "- Some kind of \"narrative\" "
   ]
  },
  {
   "cell_type": "code",
   "execution_count": null,
   "metadata": {},
   "outputs": [],
   "source": []
  },
  {
   "cell_type": "markdown",
   "metadata": {},
   "source": []
  }
 ],
 "metadata": {
  "language_info": {
   "name": "python"
  }
 },
 "nbformat": 4,
 "nbformat_minor": 2
}
