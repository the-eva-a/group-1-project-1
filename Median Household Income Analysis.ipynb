{
 "cells": [
  {
   "cell_type": "code",
   "execution_count": 13,
   "id": "af9f5884-5f23-4f13-aa9d-c46139dfd1ce",
   "metadata": {},
   "outputs": [],
   "source": [
    "# import dependencies\n",
    "import pandas as pd\n",
    "import numpy as np \n",
    "import matplotlib.pyplot as plt\n",
    "from matplotlib.colors import ListedColormap\n",
    "import seaborn as sns\n",
    "from scipy.stats import linregress\n",
    "from scipy.stats import shapiro\n",
    "from scipy.stats import spearmanr\n",
    "import os\n",
    "import requests"
   ]
  },
  {
   "cell_type": "code",
   "execution_count": 14,
   "id": "f5c627a4-608c-40dc-985a-ae9acaf3ea89",
   "metadata": {},
   "outputs": [],
   "source": [
    "# Import state data\n",
    "state_data = pd.read_csv('Resources/state_data.csv')\n",
    "state_df = pd.DataFrame(state_data)"
   ]
  },
  {
   "cell_type": "code",
   "execution_count": 15,
   "id": "8250d1c4-535d-476d-bd33-87d3b59713c6",
   "metadata": {},
   "outputs": [
    {
     "name": "stdout",
     "output_type": "stream",
     "text": [
      "Key Found\n"
     ]
    }
   ],
   "source": [
    "#Import my census API Key\n",
    "census_api_key = os.getenv('census_api_key')\n",
    "if census_api_key:\n",
    "    print('Key Found')\n",
    "else:\n",
    "    print('Key Not Found')"
   ]
  },
  {
   "cell_type": "code",
   "execution_count": 16,
   "id": "a05b6237-6d5a-40d0-942d-b711dc666666",
   "metadata": {},
   "outputs": [
    {
     "data": {
      "text/html": [
       "<div>\n",
       "<style scoped>\n",
       "    .dataframe tbody tr th:only-of-type {\n",
       "        vertical-align: middle;\n",
       "    }\n",
       "\n",
       "    .dataframe tbody tr th {\n",
       "        vertical-align: top;\n",
       "    }\n",
       "\n",
       "    .dataframe thead th {\n",
       "        text-align: right;\n",
       "    }\n",
       "</style>\n",
       "<table border=\"1\" class=\"dataframe\">\n",
       "  <thead>\n",
       "    <tr style=\"text-align: right;\">\n",
       "      <th></th>\n",
       "      <th>state</th>\n",
       "      <th>Median_Household_Income</th>\n",
       "    </tr>\n",
       "  </thead>\n",
       "  <tbody>\n",
       "    <tr>\n",
       "      <th>0</th>\n",
       "      <td>Alabama</td>\n",
       "      <td>54943</td>\n",
       "    </tr>\n",
       "    <tr>\n",
       "      <th>1</th>\n",
       "      <td>Alaska</td>\n",
       "      <td>80287</td>\n",
       "    </tr>\n",
       "    <tr>\n",
       "      <th>2</th>\n",
       "      <td>Arizona</td>\n",
       "      <td>65913</td>\n",
       "    </tr>\n",
       "    <tr>\n",
       "      <th>3</th>\n",
       "      <td>Arkansas</td>\n",
       "      <td>52123</td>\n",
       "    </tr>\n",
       "    <tr>\n",
       "      <th>4</th>\n",
       "      <td>California</td>\n",
       "      <td>84097</td>\n",
       "    </tr>\n",
       "  </tbody>\n",
       "</table>\n",
       "</div>"
      ],
      "text/plain": [
       "        state  Median_Household_Income\n",
       "0     Alabama                    54943\n",
       "1      Alaska                    80287\n",
       "2     Arizona                    65913\n",
       "3    Arkansas                    52123\n",
       "4  California                    84097"
      ]
     },
     "execution_count": 16,
     "metadata": {},
     "output_type": "execute_result"
    }
   ],
   "source": [
    "# API URL\n",
    "url = f\"https://api.census.gov/data/2021/acs/acs5?get=B19013_001E,NAME&for=state:*&key={census_api_key}\"\n",
    "#Retrieve the census data\n",
    "response = requests.get(url)\n",
    "\n",
    "if response.status_code == 200:\n",
    "    # Convert the data into a DataFrame\n",
    "    data = response.json()\n",
    "    columns = data[0]\n",
    "    data_rows = data[1:]\n",
    "    income_df = pd.DataFrame(data_rows, columns=columns)\n",
    "    \n",
    "    # Rename columns for clarity\n",
    "    income_df.rename(columns={'B19013_001E': 'Median_Household_Income', 'NAME': 'State'}, inplace=True)\n",
    "\n",
    "    # Convert the income column to numeric for proper merging\n",
    "    income_df['Median_Household_Income'] = pd.to_numeric(income_df['Median_Household_Income'])\n",
    "    \n",
    "    # Remove extra columns like 'state' code if you don't need them\n",
    "    income_df = income_df[['State', 'Median_Household_Income']]\n",
    "    \n",
    "    # Rename 'State' to 'state' to match the state_df column name\n",
    "    income_df.rename(columns={'State': 'state'}, inplace=True)\n",
    "\n",
    "income_df.head()"
   ]
  },
  {
   "cell_type": "code",
   "execution_count": 17,
   "id": "58df601b-fb75-48c5-8370-a153d0bec201",
   "metadata": {},
   "outputs": [
    {
     "name": "stdout",
     "output_type": "stream",
     "text": [
      "Data successfully written to median_household_income.csv\n"
     ]
    }
   ],
   "source": [
    "output_file = 'median_household_income.csv'\n",
    "\n",
    "# Write the DataFrame to a CSV file\n",
    "income_df.to_csv(output_file, index=False)\n",
    "\n",
    "print(f\"Data successfully written to {output_file}\")"
   ]
  },
  {
   "cell_type": "code",
   "execution_count": 18,
   "id": "07d6426f-c2cf-40d1-86fd-becdad03aa67",
   "metadata": {},
   "outputs": [
    {
     "data": {
      "text/plain": [
       "Index(['fips', 'state', 'county', 'adult_obesity_pct', 'adult_obesity_z',\n",
       "       'food_environment_index', 'food_environment_index_z',\n",
       "       'exercise_access_pct', 'exercise_access_z', 'excess_drinking_pct',\n",
       "       'excess_drinking_z', 'uninsured_num', 'uninsured_pct', 'uninsured_z',\n",
       "       'primary_care_phys_rate', 'primary_care_phys_z',\n",
       "       'prevent_hospital_rate', 'prevent_hospital_z', 'income_inequal_80pct',\n",
       "       'income_inequal_20pct', 'income_inequal_ratio', 'income_inequal_z',\n",
       "       'early_death_count', 'early_death_years_lost', 'mental_health_ratio',\n",
       "       'mental_health_rate', 'mental_health_num', 'housing_z',\n",
       "       'unemployment_z', 'physical_inactive_z', 'smoking_z', 'dentists_z',\n",
       "       'mental_health_z', 'poor_health_z', 'poor_phys_health_z',\n",
       "       'poor_mental_health_z', 'dentists_ratio', 'dentists_num',\n",
       "       'dentists_rate', 'exercise_access_pct.1', 'unemployment_num',\n",
       "       'unemployment_pct', 'poor_physical_health_avg_days',\n",
       "       'housing_inad_facil', 'housing_overcrowding',\n",
       "       'Median_Household_Income'],\n",
       "      dtype='object')"
      ]
     },
     "execution_count": 18,
     "metadata": {},
     "output_type": "execute_result"
    }
   ],
   "source": [
    "#Merge the state_df and income_df\n",
    "state_df = state_df.merge(income_df, on='state', how='left')\n",
    "state_df.columns"
   ]
  },
  {
   "cell_type": "code",
   "execution_count": 19,
   "id": "726f6a12-ad3d-4b4a-b1d0-a6259113e0f8",
   "metadata": {},
   "outputs": [
    {
     "data": {
      "image/png": "[encoded data removed]",
      "text/plain": [
       "<Figure size 640x480 with 1 Axes>"
      ]
     },
     "metadata": {},
     "output_type": "display_data"
    },
    {
     "name": "stdout",
     "output_type": "stream",
     "text": [
      "The r^2 value is: 0.5536843632844494\n"
     ]
    }
   ],
   "source": [
    "#Exploring State Level Early Death Years Lost vs Median Household Income\n",
    "x_values = state_df['early_death_years_lost']\n",
    "y_values = state_df['Median_Household_Income']\n",
    "(slope, intercept, rvalue, pvalue, stderr) = linregress(x_values, y_values)\n",
    "regress_values = x_values * slope + intercept\n",
    "line_eq = \"y = \" + str(round(slope,2)) + \"x + \" + str(round(intercept,2))\n",
    "\n",
    "padding_x = 0.1 * (max(x_values) - min(x_values))  # 10% padding for x-axis\n",
    "padding_y = 0.1 * (max(y_values) - min(y_values))  # 10% padding for y-axis\n",
    "\n",
    "plt.xlim(min(x_values) - padding_x, max(x_values) + padding_x)\n",
    "plt.ylim(min(y_values) - padding_y, max(y_values) + padding_y)\n",
    "\n",
    "plt.title('State Early Death Rate vs Median Household Income')\n",
    "plt.xlabel('Early Death Rate')\n",
    "plt.ylabel('Median Household Income')\n",
    "plt.scatter(x_values, y_values)\n",
    "plt.plot(x_values, regress_values, \"r-\")  # Plot the regression line\n",
    "plt.annotate(line_eq, (5.8, 0.8), fontsize=15, color=\"red\")  # Annotate the line equation\n",
    "\n",
    "# Call plt.show() as a function to display the plot\n",
    "plt.show()\n",
    "print(f'The r^2 value is: {rvalue**2}')"
   ]
  },
  {
   "cell_type": "code",
   "execution_count": 20,
   "id": "0cbacb00-b8da-4c24-99c2-0d234b6090b3",
   "metadata": {},
   "outputs": [],
   "source": [
    "def spearmanr_function(column_1_name, column_2_name):\n",
    "    # Check if the provided column names exist in the DataFrame\n",
    "    if column_1_name not in state_df.columns or column_2_name not in state_df.columns:\n",
    "        print(f\"Error: One or both column names '{column_1_name}' or '{column_2_name}' do not exist in the DataFrame.\")\n",
    "        return\n",
    "\n",
    "    # Get the columns to check from the DataFrame\n",
    "    a = state_df[column_1_name]\n",
    "    b = state_df[column_2_name]\n",
    "\n",
    "    # Run the Spearman Rank Correlation test\n",
    "    correlation, p_value = spearmanr(a, b)\n",
    "    \n",
    "    # Display the results\n",
    "    print(f\"Spearman Correlation Coefficient: {correlation}\")\n",
    "    print(f\"P-value: {p_value}\")"
   ]
  },
  {
   "cell_type": "code",
   "execution_count": 21,
   "id": "36c79fdf-cc8a-4292-870f-1685910ac473",
   "metadata": {},
   "outputs": [
    {
     "name": "stdout",
     "output_type": "stream",
     "text": [
      "Spearman Correlation Coefficient: -0.772760180995475\n",
      "P-value: 3.067621191306268e-11\n"
     ]
    }
   ],
   "source": [
    "spearmanr_function('early_death_years_lost','Median_Household_Income')"
   ]
  },
  {
   "cell_type": "code",
   "execution_count": 22,
   "id": "796f8f8c-cb4a-4eff-ae2c-0475708b5581",
   "metadata": {},
   "outputs": [
    {
     "name": "stdout",
     "output_type": "stream",
     "text": [
      "Spearman Correlation Coefficient: -0.7563482025415856\n",
      "P-value: 1.3758140446755925e-10\n"
     ]
    }
   ],
   "source": [
    "spearmanr_function('adult_obesity_pct','Median_Household_Income')"
   ]
  }
 ],
 "metadata": {
  "kernelspec": {
   "display_name": "Python 3 (ipykernel)",
   "language": "python",
   "name": "python3"
  },
  "language_info": {
   "codemirror_mode": {
    "name": "ipython",
    "version": 3
   },
   "file_extension": ".py",
   "mimetype": "text/x-python",
   "name": "python",
   "nbconvert_exporter": "python",
   "pygments_lexer": "ipython3",
   "version": "3.10.14"
  }
 },
 "nbformat": 4,
 "nbformat_minor": 5
}
